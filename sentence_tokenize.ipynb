{
 "cells": [
  {
   "cell_type": "code",
   "execution_count": 1,
   "metadata": {
    "collapsed": false
   },
   "outputs": [
   ],
   "source": [
    "from nltk.tokenize import sent_tokenize"
   ]
  },
  {
   "cell_type": "code",
   "execution_count": 2,
   "metadata": {
    "collapsed": false
   },
   "outputs": [
   ],
   "source": [
    "str1 = \"This is about splitting large raw texts into sentences. Every senetence is separated with comma separator. To do this, we will be using a function called 'sent_tokenize' from nltk.tokenize library. sent_tokenize is one of instances of PunktSentenceTokenizer from the nltk.tokenize.punkt module. It will return list of comma separated senetence in any paragraph. Below is the example. \""
   ]
  },
  {
   "cell_type": "code",
   "execution_count": 3,
   "metadata": {
    "collapsed": false
   },
   "outputs": [
    {
     "name": "stdout",
     "output_type": "stream",
     "text": [
      "['This is about splitting large raw texts into sentences.', 'Every senetence is separated with comma separator.', \"To do this, we will be using a function called 'sent_tokenize' from nltk.tokenize library.\", 'It will return list of comma separated senetence in any paragraph.', 'Below is the example.']\n"
     ]
    }
   ],
   "source": [
    "print(sent_tokenize(str1))"
   ]
  },
  {
   "cell_type": "code",
   "execution_count": 6,
   "metadata": {
    "collapsed": false
   },
   "outputs": [
    {
     "name": "stdout",
     "output_type": "stream",
     "text": [
      "['This is about splitting large raw texts into sentences.', 'Every senetence is separated with comma separator.', \"To do this, we will be using a function called 'sent_tokenize' from nltk.tokenize library.\", 'It will return list of comma separated senetence in any paragraph.', 'Below is the example.']\n"
     ]
    }
   ],
   "source": [
    "#One more way to do sentence splitting is given below\n",
    "import nltk\n",
    "tokenizer = nltk.tokenize.punkt.PunktSentenceTokenizer()\n",
    "print(tokenizer.tokenize(str1))"
   ]
  }
 ],
 "metadata": {
  "kernelspec": {
   "display_name": "Python 3 (system-wide)",
   "language": "python",
   "metadata": {
    "cocalc": {
     "description": "Python 3 programming language",
     "priority": 100,
     "url": "https://www.python.org/"
    }
   },
   "name": "python3"
  },
  "language_info": {
   "codemirror_mode": {
    "name": "ipython",
    "version": 3
   },
   "file_extension": ".py",
   "mimetype": "text/x-python",
   "name": "python",
   "nbconvert_exporter": "python",
   "pygments_lexer": "ipython3",
   "version": "3.6.8"
  }
 },
 "nbformat": 4,
 "nbformat_minor": 0
}