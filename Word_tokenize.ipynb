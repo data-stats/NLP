{
 "cells": [
  {
   "cell_type": "code",
   "execution_count": 1,
   "metadata": {
    "collapsed": false
   },
   "outputs": [
   ],
   "source": [
    "str1 = \"This is about splitting sentences into words. Each word is separated with comma. There are many ways to do this.\""
   ]
  },
  {
   "cell_type": "code",
   "execution_count": 2,
   "metadata": {
    "collapsed": false
   },
   "outputs": [
    {
     "data": {
      "text/plain": [
       "['This',\n",
       " 'is',\n",
       " 'about',\n",
       " 'splitting',\n",
       " 'sentences',\n",
       " 'into',\n",
       " 'words.',\n",
       " 'Each',\n",
       " 'word',\n",
       " 'is',\n",
       " 'separated',\n",
       " 'with',\n",
       " 'comma.',\n",
       " 'There',\n",
       " 'are',\n",
       " 'many',\n",
       " 'ways',\n",
       " 'to',\n",
       " 'do',\n",
       " 'this.']"
      ]
     },
     "execution_count": 2,
     "metadata": {
     },
     "output_type": "execute_result"
    }
   ],
   "source": [
    "str1.split()"
   ]
  },
  {
   "cell_type": "code",
   "execution_count": 3,
   "metadata": {
    "collapsed": false
   },
   "outputs": [
    {
     "data": {
      "text/plain": [
       "['This',\n",
       " 'is',\n",
       " 'about',\n",
       " 'splitting',\n",
       " 'sentences',\n",
       " 'into',\n",
       " 'words',\n",
       " '.',\n",
       " 'Each',\n",
       " 'word',\n",
       " 'is',\n",
       " 'separated',\n",
       " 'with',\n",
       " 'comma',\n",
       " '.',\n",
       " 'There',\n",
       " 'are',\n",
       " 'many',\n",
       " 'ways',\n",
       " 'to',\n",
       " 'do',\n",
       " 'this',\n",
       " '.']"
      ]
     },
     "execution_count": 3,
     "metadata": {
     },
     "output_type": "execute_result"
    }
   ],
   "source": [
    "from nltk.tokenize import word_tokenize\n",
    "word_tokenize(str1)"
   ]
  },
  {
   "cell_type": "code",
   "execution_count": 7,
   "metadata": {
    "collapsed": false
   },
   "outputs": [
    {
     "data": {
      "text/plain": [
       "['This',\n",
       " 'is',\n",
       " 'about',\n",
       " 'splitting',\n",
       " 'sentences',\n",
       " 'into',\n",
       " 'words.',\n",
       " 'Each',\n",
       " 'word',\n",
       " 'is',\n",
       " 'separated',\n",
       " 'with',\n",
       " 'comma.',\n",
       " 'There',\n",
       " 'are',\n",
       " 'many',\n",
       " 'ways',\n",
       " 'to',\n",
       " 'do',\n",
       " 'this',\n",
       " '.']"
      ]
     },
     "execution_count": 7,
     "metadata": {
     },
     "output_type": "execute_result"
    }
   ],
   "source": [
    "from nltk.tokenize import TreebankWordTokenizer\n",
    "tokenizer =  TreebankWordTokenizer()\n",
    "tokenizer.tokenize(str1)"
   ]
  },
  {
   "cell_type": "code",
   "execution_count": 0,
   "metadata": {
    "collapsed": false
   },
   "outputs": [
   ],
   "source": [
   ]
  }
 ],
 "metadata": {
  "kernelspec": {
   "display_name": "Python 3 (system-wide)",
   "language": "python",
   "metadata": {
    "cocalc": {
     "description": "Python 3 programming language",
     "priority": 100,
     "url": "https://www.python.org/"
    }
   },
   "name": "python3"
  },
  "language_info": {
   "codemirror_mode": {
    "name": "ipython",
    "version": 3
   },
   "file_extension": ".py",
   "mimetype": "text/x-python",
   "name": "python",
   "nbconvert_exporter": "python",
   "pygments_lexer": "ipython3",
   "version": "3.6.8"
  }
 },
 "nbformat": 4,
 "nbformat_minor": 0
}