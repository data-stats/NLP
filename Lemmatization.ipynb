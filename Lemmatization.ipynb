{
 "cells": [
  {
   "cell_type": "code",
   "execution_count": 15,
   "metadata": {
    "collapsed": false
   },
   "outputs": [
    {
     "name": "stdout",
     "output_type": "stream",
     "text": [
      "like\n",
      "carefully\n",
      "As adjective satellite --> good\n",
      "As adjective --> good\n",
      "As noun --> better\n",
      "As adjective --> good\n"
     ]
    }
   ],
   "source": [
    "import nltk\n",
    "from nltk.stem import WordNetLemmatizer \n",
    "lemmatizer = WordNetLemmatizer() \n",
    "print(lemmatizer.lemmatize(\"likes\")) \n",
    "print(lemmatizer.lemmatize(\"carefully\"))\n",
    "\n",
    "# a denotes adjective in \"pos\" \n",
    "print(\"As adjective satellite -->\",lemmatizer.lemmatize(\"better\", pos =\"s\"))\n",
    "print(\"As adjective -->\", lemmatizer.lemmatize(\"better\", pos =\"a\"))\n",
    "print(\"As noun -->\",lemmatizer.lemmatize(\"better\", pos =\"n\"))\n",
    "print(\"As adjective -->\",lemmatizer.lemmatize(\"better\", pos =\"a\"))\n"
   ]
  },
  {
   "cell_type": "code",
   "execution_count": 0,
   "metadata": {
    "collapsed": false
   },
   "outputs": [
   ],
   "source": [
   ]
  }
 ],
 "metadata": {
  "kernelspec": {
   "display_name": "Python 3 (system-wide)",
   "language": "python",
   "metadata": {
    "cocalc": {
     "description": "Python 3 programming language",
     "priority": 100,
     "url": "https://www.python.org/"
    }
   },
   "name": "python3"
  },
  "language_info": {
   "codemirror_mode": {
    "name": "ipython",
    "version": 3
   },
   "file_extension": ".py",
   "mimetype": "text/x-python",
   "name": "python",
   "nbconvert_exporter": "python",
   "pygments_lexer": "ipython3",
   "version": "3.6.8"
  }
 },
 "nbformat": 4,
 "nbformat_minor": 0
}