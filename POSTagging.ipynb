{
 "cells": [
  {
   "cell_type": "code",
   "execution_count": 2,
   "metadata": {
    "collapsed": false
   },
   "outputs": [
    {
     "name": "stdout",
     "output_type": "stream",
     "text": [
      "[('We', 'PRP'), ('are', 'VBP'), ('learning', 'VBG'), ('NLP', 'NNP'), ('from', 'IN'), ('datastats.com', 'NN')]\n"
     ]
    }
   ],
   "source": [
    "import nltk\n",
    "from nltk import word_tokenize,pos_tag\n",
    "\n",
    "#Consider the below string\n",
    "str1 = \"We are learning NLP from datastats.com\"\n",
    "words = word_tokenize(str1)\n",
    "posTag = pos_tag(words)\n",
    "print(posTag)"
   ]
  },
  {
   "cell_type": "code",
   "execution_count": 0,
   "metadata": {
    "collapsed": false
   },
   "outputs": [
   ],
   "source": [
    "# So output is like\n",
    "'''\n",
    "We - PRP (Personal Pronoun)\n",
    "are - VBP (Verb, non-3rd person singular present)\n",
    "learning - VBG (Verb, gerund or present participle)\n",
    "NLP - NNP (Proper noun, singular)\n",
    "from - IN (Preposition or subordinating conjunction)\n",
    "datastats.com - NN (Noun, singular or mass)\n",
    "\n",
    "'''"
   ]
  }
 ],
 "metadata": {
  "kernelspec": {
   "display_name": "Python 3 (system-wide)",
   "language": "python",
   "metadata": {
    "cocalc": {
     "description": "Python 3 programming language",
     "priority": 100,
     "url": "https://www.python.org/"
    }
   },
   "name": "python3"
  },
  "language_info": {
   "codemirror_mode": {
    "name": "ipython",
    "version": 3
   },
   "file_extension": ".py",
   "mimetype": "text/x-python",
   "name": "python",
   "nbconvert_exporter": "python",
   "pygments_lexer": "ipython3",
   "version": "3.6.8"
  }
 },
 "nbformat": 4,
 "nbformat_minor": 0
}