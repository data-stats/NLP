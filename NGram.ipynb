{
 "cells": [
  {
   "cell_type": "code",
   "execution_count": 12,
   "metadata": {
    "collapsed": false
   },
   "outputs": [
    {
     "data": {
      "text/plain": [
       "['We are',\n",
       " 'are learning',\n",
       " 'learning natural',\n",
       " 'natural language',\n",
       " 'language processing',\n",
       " 'processing from',\n",
       " 'from datastats.com']"
      ]
     },
     "execution_count": 12,
     "metadata": {
     },
     "output_type": "execute_result"
    }
   ],
   "source": [
    "import nltk\n",
    "from nltk import word_tokenize\n",
    "from nltk.util import ngrams\n",
    "from collections import Counter\n",
    "str1 = \"We are learning natural language processing from datastats.com\"\n",
    "words = word_tokenize(str1)\n",
    "ng = ngrams(words,2)  #generating bi-grams\n",
    "ngResults = [' '.join(grams) for grams in ng]\n",
    "ngResults"
   ]
  },
  {
   "cell_type": "code",
   "execution_count": 13,
   "metadata": {
    "collapsed": false
   },
   "outputs": [
    {
     "data": {
      "text/plain": [
       "['We are learning',\n",
       " 'are learning natural',\n",
       " 'learning natural language',\n",
       " 'natural language processing',\n",
       " 'language processing from',\n",
       " 'processing from datastats.com']"
      ]
     },
     "execution_count": 13,
     "metadata": {
     },
     "output_type": "execute_result"
    }
   ],
   "source": [
    "ng = ngrams(words,3)  # generating tri-grams\n",
    "ngResults = [' '.join(grams) for grams in ng]\n",
    "ngResults"
   ]
  },
  {
   "cell_type": "code",
   "execution_count": 14,
   "metadata": {
    "collapsed": false
   },
   "outputs": [
    {
     "name": "stdout",
     "output_type": "stream",
     "text": [
      "Counter({'We are learning': 1, 'are learning natural': 1, 'learning natural language': 1, 'natural language processing': 1, 'language processing from': 1, 'processing from datastats.com': 1})\n"
     ]
    }
   ],
   "source": [
    "print(Counter(ngResults))  # just counting the occurence of each n-gram"
   ]
  },
  {
   "cell_type": "code",
   "execution_count": 0,
   "metadata": {
    "collapsed": false
   },
   "outputs": [
   ],
   "source": [
   ]
  }
 ],
 "metadata": {
  "kernelspec": {
   "display_name": "Python 3 (system-wide)",
   "language": "python",
   "metadata": {
    "cocalc": {
     "description": "Python 3 programming language",
     "priority": 100,
     "url": "https://www.python.org/"
    }
   },
   "name": "python3"
  },
  "language_info": {
   "codemirror_mode": {
    "name": "ipython",
    "version": 3
   },
   "file_extension": ".py",
   "mimetype": "text/x-python",
   "name": "python",
   "nbconvert_exporter": "python",
   "pygments_lexer": "ipython3",
   "version": "3.6.8"
  }
 },
 "nbformat": 4,
 "nbformat_minor": 0
}