{
 "cells": [
  {
   "cell_type": "code",
   "execution_count": 2,
   "metadata": {},
   "outputs": [],
   "source": [
    "#Consider the below input string\n",
    "str1 = \"I am learning natural language processing from datastats.com\""
   ]
  },
  {
   "cell_type": "code",
   "execution_count": 3,
   "metadata": {},
   "outputs": [],
   "source": [
    "# import the 're' module\n",
    "import re"
   ]
  },
  {
   "cell_type": "code",
   "execution_count": 4,
   "metadata": {},
   "outputs": [
    {
     "data": {
      "text/plain": [
       "True"
      ]
     },
     "execution_count": 4,
     "metadata": {},
     "output_type": "execute_result"
    }
   ],
   "source": [
    "# check if str1 starts with 'I' or not with the help of function 'startswith()'\n",
    "str1.startswith(\"I\")"
   ]
  },
  {
   "cell_type": "code",
   "execution_count": 5,
   "metadata": {},
   "outputs": [
    {
     "data": {
      "text/plain": [
       "False"
      ]
     },
     "execution_count": 5,
     "metadata": {},
     "output_type": "execute_result"
    }
   ],
   "source": [
    "# check if str1 starts with 'i' or not with the help of function 'startswith()'\n",
    "str1.startswith(\"i\")"
   ]
  },
  {
   "cell_type": "code",
   "execution_count": 6,
   "metadata": {},
   "outputs": [
    {
     "data": {
      "text/plain": [
       "True"
      ]
     },
     "execution_count": 6,
     "metadata": {},
     "output_type": "execute_result"
    }
   ],
   "source": [
    "# check if str1 ends with '.com' or not with the help of function 'endswith()'\n",
    "str1.endswith(\".com\")"
   ]
  },
  {
   "cell_type": "code",
   "execution_count": 7,
   "metadata": {},
   "outputs": [
    {
     "name": "stdout",
     "output_type": "stream",
     "text": [
      "found\n"
     ]
    }
   ],
   "source": [
    "#Function 'search()' from 're' module is used to search for any word in input string\n",
    "if(re.search(\"learning\",str1)):\n",
    "    print(\"found\")\n",
    "else:\n",
    "    print(\"not found\")\n",
    "\n",
    "# Search function takes 3 parameters\n",
    "# first parameter --> string to be searched\n",
    "# second parameter --> string in which first parameter string is to be searched\n",
    "# third parameter --> flag where we can choose whether search should be case sensitive and many other things like this\n"
   ]
  },
  {
   "cell_type": "code",
   "execution_count": 8,
   "metadata": {},
   "outputs": [
    {
     "data": {
      "text/plain": [
       "['i', 'i']"
      ]
     },
     "execution_count": 8,
     "metadata": {},
     "output_type": "execute_result"
    }
   ],
   "source": [
    "#Function 'findall' to find all occurences of any word or letter\n",
    "re.findall('i',str1)"
   ]
  },
  {
   "cell_type": "code",
   "execution_count": 9,
   "metadata": {},
   "outputs": [
    {
     "data": {
      "text/plain": [
       "['The', 'the']"
      ]
     },
     "execution_count": 9,
     "metadata": {},
     "output_type": "execute_result"
    }
   ],
   "source": [
    "#Consider another string. \n",
    "str2 = \"The smallest planet in the solar system is mercury\"\n",
    "#Here, 'r' reprsents the 'raw'\n",
    "#Also, we have given multiple characters in square bracket to indicate that first character of the string to be searched may be either 't' or 'T'. \n",
    "re.findall(r'[Tt]he',str2)"
   ]
  },
  {
   "cell_type": "code",
   "execution_count": 23,
   "metadata": {},
   "outputs": [],
   "source": [
    "str3 = \"this is my laptop ip address 192.192.192.190\""
   ]
  },
  {
   "cell_type": "code",
   "execution_count": 24,
   "metadata": {},
   "outputs": [
    {
     "name": "stdout",
     "output_type": "stream",
     "text": [
      "['1', '9', '2', '1', '9', '2', '1', '9', '2', '1', '9', '0']\n"
     ]
    }
   ],
   "source": [
    "# to find only decimal digits in input string\n",
    "print(re.findall('\\d',str3))"
   ]
  },
  {
   "cell_type": "code",
   "execution_count": 25,
   "metadata": {},
   "outputs": [
    {
     "name": "stdout",
     "output_type": "stream",
     "text": [
      "['t', 'h', 'i', 's', 'i', 's', 'm', 'y', 'l', 'a', 'p', 't', 'o', 'p', 'i', 'p', 'a', 'd', 'd', 'r', 'e', 's', 's', '1', '9', '2', '.', '1', '9', '2', '.', '1', '9', '2', '.', '1', '9', '0']\n"
     ]
    }
   ],
   "source": [
    "# to find all non-white space charcters in input string\n",
    "print(re.findall('\\S',str3))"
   ]
  },
  {
   "cell_type": "code",
   "execution_count": 29,
   "metadata": {},
   "outputs": [
    {
     "name": "stdout",
     "output_type": "stream",
     "text": [
      "thisismylaptopipaddress192.192.192.190\n"
     ]
    }
   ],
   "source": [
    "# to remove all white space characters in input string\n",
    "print(re.sub('\\s','',str3))\n",
    "#Please notice that difference of uppercase 'S' and lowercase 's' in last two examples.\n"
   ]
  },
  {
   "cell_type": "code",
   "execution_count": 32,
   "metadata": {},
   "outputs": [
    {
     "name": "stdout",
     "output_type": "stream",
     "text": [
      "['course', 'course']\n"
     ]
    }
   ],
   "source": [
    "str4 = 'we learn NLP course out of the given courses'\n",
    "print(re.findall(\"course?\",str4))\n",
    "\n",
    "#Here, we have used another pattern where '?' is placed after a string to be searched.\n",
    "#It means it will find all words which contains this string and will return the searched string wherever it is found.\n"
   ]
  },
  {
   "cell_type": "code",
   "execution_count": 33,
   "metadata": {},
   "outputs": [
    {
     "name": "stdout",
     "output_type": "stream",
     "text": [
      "['we', 'course', 'course']\n"
     ]
    }
   ],
   "source": [
    "print(re.findall(\"course|courses|we\",str4))"
   ]
  },
  {
   "cell_type": "code",
   "execution_count": 13,
   "metadata": {},
   "outputs": [
    {
     "name": "stdout",
     "output_type": "stream",
     "text": [
      "this is my laptop ip address \n"
     ]
    }
   ],
   "source": [
    "#find and replace one pattern from string\n",
    "\n",
    "str3_dec = \n",
    "\n",
    "str3_sub=re.sub(r'[0-9].*$',\"\",str3)\n",
    "# Here we applied regex on input string to find the pattern '[0-9].*$' and remove it.\n",
    "#Number in square bracket show the start of thh string to be searched is numeric\n",
    "# .* represents all content\n",
    "#$ represents the end of string\n",
    "# so, we are replacing content after any numeric value from the input string with the blank.\n",
    "\n",
    "print(str3_sub)\n",
    "\n"
   ]
  },
  {
   "cell_type": "code",
   "execution_count": 35,
   "metadata": {},
   "outputs": [
    {
     "name": "stdout",
     "output_type": "stream",
     "text": [
      "192192192190\n"
     ]
    }
   ],
   "source": [
    "#Remove all except decimal values.\n",
    "print(re.sub(\"\\D\",\"\",str3))"
   ]
  }
 ],
 "metadata": {
  "kernelspec": {
   "display_name": "Python 3",
   "language": "python",
   "name": "python3"
  },
  "language_info": {
   "codemirror_mode": {
    "name": "ipython",
    "version": 3
   },
   "file_extension": ".py",
   "mimetype": "text/x-python",
   "name": "python",
   "nbconvert_exporter": "python",
   "pygments_lexer": "ipython3",
   "version": "3.7.3"
  }
 },
 "nbformat": 4,
 "nbformat_minor": 4
}
