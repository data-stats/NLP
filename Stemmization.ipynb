{
 "cells": [
  {
   "cell_type": "code",
   "execution_count": 4,
   "metadata": {
    "collapsed": false
   },
   "outputs": [
   ],
   "source": [
    "import nltk\n",
    "from nltk import PorterStemmer,LancasterStemmer,SnowballStemmer # import different stemmer algo classes\n",
    "from nltk.tokenize import word_tokenize"
   ]
  },
  {
   "cell_type": "code",
   "execution_count": 2,
   "metadata": {
    "collapsed": false
   },
   "outputs": [
   ],
   "source": [
    "str1 = \"like likely likes liked\""
   ]
  },
  {
   "cell_type": "code",
   "execution_count": 6,
   "metadata": {
    "collapsed": false
   },
   "outputs": [
    {
     "name": "stdout",
     "output_type": "stream",
     "text": [
      "['like', 'likely', 'likes', 'liked']\n"
     ]
    }
   ],
   "source": [
    "words_stem = []\n",
    "str1_token = word_tokenize(str1)\n",
    "print(str1_token)"
   ]
  },
  {
   "cell_type": "code",
   "execution_count": 7,
   "metadata": {
    "collapsed": false
   },
   "outputs": [
   ],
   "source": [
    "for w in str1_token:\n",
    "    words_stem.append(PorterStemmer().stem(w).encode(\"utf8\")) #apply stem method from PorterStemmer"
   ]
  },
  {
   "cell_type": "code",
   "execution_count": 8,
   "metadata": {
    "collapsed": false
   },
   "outputs": [
    {
     "name": "stdout",
     "output_type": "stream",
     "text": [
      "[b'like', b'like', b'like', b'like']\n"
     ]
    }
   ],
   "source": [
    "print(words_stem)"
   ]
  },
  {
   "cell_type": "code",
   "execution_count": 10,
   "metadata": {
    "collapsed": false
   },
   "outputs": [
    {
     "name": "stdout",
     "output_type": "stream",
     "text": [
      "[b'lik', b'lik', b'lik', b'lik']\n"
     ]
    }
   ],
   "source": [
    "words_stem = []\n",
    "for w in str1_token:\n",
    "    words_stem.append(LancasterStemmer().stem(w).encode(\"utf8\")) #apply stem method from LancasterStemmer\n",
    "\n",
    "print(words_stem)"
   ]
  },
  {
   "cell_type": "code",
   "execution_count": 13,
   "metadata": {
    "collapsed": false
   },
   "outputs": [
    {
     "name": "stdout",
     "output_type": "stream",
     "text": [
      "[b'like', b'like', b'like', b'like']\n"
     ]
    }
   ],
   "source": [
    "words_stem = []\n",
    "for w in str1_token:\n",
    "    words_stem.append(SnowballStemmer(\"english\").stem(w).encode(\"utf8\")) #apply stem method from SnowballStemmer and notice the language parameter in this case\n",
    "\n",
    "print(words_stem)"
   ]
  },
  {
   "cell_type": "code",
   "execution_count": 0,
   "metadata": {
    "collapsed": false
   },
   "outputs": [
   ],
   "source": [
   ]
  }
 ],
 "metadata": {
  "kernelspec": {
   "display_name": "Python 3 (system-wide)",
   "language": "python",
   "metadata": {
    "cocalc": {
     "description": "Python 3 programming language",
     "priority": 100,
     "url": "https://www.python.org/"
    }
   },
   "name": "python3"
  },
  "language_info": {
   "codemirror_mode": {
    "name": "ipython",
    "version": 3
   },
   "file_extension": ".py",
   "mimetype": "text/x-python",
   "name": "python",
   "nbconvert_exporter": "python",
   "pygments_lexer": "ipython3",
   "version": "3.6.8"
  }
 },
 "nbformat": 4,
 "nbformat_minor": 0
}